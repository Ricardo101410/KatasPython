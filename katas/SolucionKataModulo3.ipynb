{
 "cells": [
  {
   "cell_type": "markdown",
   "metadata": {},
   "source": [
    "Ejercicio if elif else\n",
    "solucion ejercicio asteroide a 49km/s"
   ]
  },
  {
   "cell_type": "code",
   "execution_count": 8,
   "metadata": {},
   "outputs": [
    {
     "name": "stdout",
     "output_type": "stream",
     "text": [
      "Advertencia de asteroide asteroide cerca de la tierra viaja a 49 km/s\n"
     ]
    }
   ],
   "source": [
    "asteroide = 49\n",
    "if asteroide > 25:\n",
    "    print(\"Advertencia de asteroide asteroide cerca de la tierra viaja a \"+ str(asteroide) + \" km/s\")"
   ]
  },
  {
   "cell_type": "markdown",
   "metadata": {},
   "source": [
    "Solucion para asteroide a 19km/s"
   ]
  },
  {
   "cell_type": "code",
   "execution_count": 7,
   "metadata": {},
   "outputs": [
    {
     "name": "stdout",
     "output_type": "stream",
     "text": [
      "no hay peligro con el asteroide viaja a 19 km/s\n"
     ]
    }
   ],
   "source": [
    "asteroide = 19\n",
    "if asteroide >= 20:\n",
    "    print(\"se ve una luz en el cielo\")\n",
    "elif asteroide == 20:\n",
    "    print(\"se ve una luz en el cielo\")\n",
    "else:\n",
    "    print(\"no hay peligro con el asteroide viaja a \" + str(asteroide) + \" km/s\")"
   ]
  },
  {
   "cell_type": "markdown",
   "metadata": {},
   "source": [
    "Ejercicio and or \n",
    "solucion ejercicio"
   ]
  },
  {
   "cell_type": "code",
   "execution_count": 11,
   "metadata": {},
   "outputs": [
    {
     "name": "stdout",
     "output_type": "stream",
     "text": [
      "Advertencia de asteroide cerca tamaño: 50 y velocidad 26\n"
     ]
    }
   ],
   "source": [
    "asteroideT = 50\n",
    "asteroideV = 26\n",
    "\n",
    "if asteroideT > 25 and asteroideV > 25:\n",
    "    print(\"Advertencia de asteroide cerca tamaño: \" + str(asteroideT) +\" y velocidad \"+ str(asteroideV))\n",
    "elif asteroideV >=20:\n",
    "    print(\"Se ve una luz en el cielo\")\n",
    "elif asteroideV < 20:\n",
    "    print(\"se ve una luz en el cielo\")\n",
    "else:\n",
    "    print(\"No hay peligro\")\n"
   ]
  }
 ],
 "metadata": {
  "interpreter": {
   "hash": "aee8b7b246df8f9039afb4144a1f6fd8d2ca17a180786b69acc140d282b71a49"
  },
  "kernelspec": {
   "display_name": "Python 3.10.2 64-bit",
   "language": "python",
   "name": "python3"
  },
  "language_info": {
   "codemirror_mode": {
    "name": "ipython",
    "version": 3
   },
   "file_extension": ".py",
   "mimetype": "text/x-python",
   "name": "python",
   "nbconvert_exporter": "python",
   "pygments_lexer": "ipython3",
   "version": "3.10.2"
  },
  "orig_nbformat": 4
 },
 "nbformat": 4,
 "nbformat_minor": 2
}
